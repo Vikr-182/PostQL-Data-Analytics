{
 "cells": [
  {
   "cell_type": "code",
   "execution_count": 6,
   "id": "bcf92ad8-5e60-4e6a-9ac2-e4bbe1f5e9e0",
   "metadata": {},
   "outputs": [],
   "source": [
    "from apriori import *\n",
    "from partition import *\n",
    "from utils import *"
   ]
  },
  {
   "cell_type": "code",
   "execution_count": 11,
   "id": "4db7ec09-b104-4861-96eb-25fb11b35fbe",
   "metadata": {},
   "outputs": [],
   "source": [
    "def parse_data(file_name):\n",
    "\n",
    "    file = open(file_name)\n",
    "    barr = []\n",
    "    for ind, line in enumerate(file):\n",
    "        arr = []\n",
    "        for i in line.split(\" \"):\n",
    "            try:\n",
    "                arr.append(int(i))\n",
    "            except:\n",
    "                pass\n",
    "        barr.append(list(np.array(arr[::2])[:-1]))\n",
    "    return barr"
   ]
  },
  {
   "cell_type": "code",
   "execution_count": 12,
   "id": "a9a308a1-c4a3-4372-ada9-ef61fe06a5dd",
   "metadata": {},
   "outputs": [
    {
     "name": "stdout",
     "output_type": "stream",
     "text": [
      "of length 1\n",
      "defaultdict(<function def_value at 0x7f8fbc751820>, {(1,): 70963, (2,): 95621, (3,): 75236, (0,): 3237})\n",
      "defaultdict(<function def_value at 0x7f8fbc751820>, {(1,): 70963, (2,): 95621, (3,): 75236, (0,): 3237})\n",
      "of length 2\n",
      "defaultdict(<function def_value at 0x7f8fbc751820>, {})\n",
      "defaultdict(<function def_value at 0x7f8fbc751820>, {})\n",
      "{(1,): 70963, (2,): 95621, (3,): 75236, (0,): 3237}\n"
     ]
    }
   ],
   "source": [
    "records = parse_data(\"data/Skin.txt\")\n",
    "# records = [[1,2,5],[2,4],[2,3],[1,2,4],[1,3],[2,3],[1,3],[1,2,3,5],[1,2,3]]\n",
    "\n",
    "emp  = {}\n",
    "\n",
    "lent = 3\n",
    "\n",
    "d1 = iter1(records)\n",
    "\n",
    "\n",
    "emp = {**emp,**d1}\n",
    "\n",
    "print (\"of length 1\")\n",
    "print (d1)\n",
    "\n",
    "d2 = iter2(d1,records)\n",
    "\n",
    "\n",
    "a1,a2 = iterhash(records)\n",
    "\n",
    "print (a1)\n",
    "\n",
    "\n",
    "print (\"of length 2\")\n",
    "print (d2)\n",
    "\n",
    "print (a2)\n",
    "\n",
    "last = d2\n",
    "\n",
    "emp = {**emp,**d2}\n",
    "\n",
    "while len(last) != 0:\n",
    "    upd = itern(lent,last,records) \n",
    "    print (\"of length \",lent)\n",
    "    print (upd)\n",
    "    emp = {**emp,**upd}\n",
    "    last = upd\n",
    "    lent += 1\n",
    "\n",
    "print (emp)"
   ]
  },
  {
   "cell_type": "code",
   "execution_count": 7,
   "id": "3d206591-90ae-41d7-a462-421425bd494d",
   "metadata": {},
   "outputs": [
    {
     "name": "stdout",
     "output_type": "stream",
     "text": [
      "[[1, 2, 5], [2, 4], [2, 3]]\n",
      "==============================\n",
      "of length 1\n",
      "defaultdict(<function def_value at 0x7f8fbc751820>, {(2,): 3})\n",
      "defaultdict(<function def_value at 0x7f8fbc751820>, {(2,): 3})\n",
      "of length 2\n",
      "defaultdict(<function def_value at 0x7f8fbc751820>, {})\n",
      "defaultdict(<function def_value at 0x7f8fbc751820>, {})\n",
      "of length 1\n",
      "defaultdict(<function def_value at 0x7f8fbc751820>, {(2,): 3})\n",
      "defaultdict(<function def_value at 0x7f8fbc751820>, {(2,): 3})\n",
      "of length 2\n",
      "defaultdict(<function def_value at 0x7f8fbc751820>, {})\n",
      "defaultdict(<function def_value at 0x7f8fbc751820>, {})\n",
      "[[1, 2, 4], [1, 3], [2, 3]]\n",
      "==============================\n",
      "of length 1\n",
      "defaultdict(<function def_value at 0x7f8fbc751820>, {(1,): 2, (2,): 2, (3,): 2})\n",
      "defaultdict(<function def_value at 0x7f8fbc751820>, {(1,): 2, (2,): 2, (3,): 2})\n",
      "of length 2\n",
      "defaultdict(<function def_value at 0x7f8fbc751820>, {})\n",
      "defaultdict(<function def_value at 0x7f8fbc751820>, {})\n",
      "of length 1\n",
      "defaultdict(<function def_value at 0x7f8fbc751820>, {(1,): 2, (2,): 2, (3,): 2})\n",
      "defaultdict(<function def_value at 0x7f8fbc751820>, {(1,): 2, (2,): 2, (3,): 2})\n",
      "of length 2\n",
      "defaultdict(<function def_value at 0x7f8fbc751820>, {})\n",
      "defaultdict(<function def_value at 0x7f8fbc751820>, {})\n",
      "[[1, 3], [1, 2, 3, 5], [1, 2, 3]]\n",
      "==============================\n",
      "of length 1\n",
      "defaultdict(<function def_value at 0x7f8fbc751820>, {(1,): 3, (3,): 3, (2,): 2})\n",
      "defaultdict(<function def_value at 0x7f8fbc751820>, {(1,): 3, (3,): 3, (2,): 2})\n",
      "of length 2\n",
      "defaultdict(<function def_value at 0x7f8fbc751820>, {(1, 3): 3, (1, 2): 2, (3, 2): 2})\n",
      "defaultdict(<function def_value at 0x7f8fbc751820>, {(1, 3): 3, (1, 2): 2, (2, 3): 2})\n",
      "of length  3\n",
      "{}\n",
      "of length 1\n",
      "defaultdict(<function def_value at 0x7f8fbc751820>, {(1,): 3, (3,): 3, (2,): 2})\n",
      "defaultdict(<function def_value at 0x7f8fbc751820>, {(1,): 3, (3,): 3, (2,): 2})\n",
      "of length 2\n",
      "defaultdict(<function def_value at 0x7f8fbc751820>, {(1, 3): 3, (1, 2): 2, (3, 2): 2})\n",
      "defaultdict(<function def_value at 0x7f8fbc751820>, {(1, 3): 3, (1, 2): 2, (2, 3): 2})\n",
      "of length  3\n",
      "{}\n",
      "candkeys ==== \n",
      "{frozenset({2}), frozenset({2, 3}), frozenset({1, 2}), frozenset({3}), frozenset({1}), frozenset({1, 3})}\n",
      "{frozenset({2}): 7, frozenset({1, 2}): 4, frozenset({1}): 6, frozenset({2, 3}): 4, frozenset({3}): 6, frozenset({1, 3}): 4}\n"
     ]
    }
   ],
   "source": [
    "import time\n",
    "start_time = time.time()\n",
    "print(partition(records,3))\n",
    "frequent_itemsets = fpgrowth(df, min_support=0.2)\n",
    "closed_frequent_itemsets = closed_frequent(frequent_itemsets)\n",
    "print('Time to find Close frequent itemset using Library')\n",
    "print(\"--- %s seconds ---\" % (time.time() - start_time))"
   ]
  }
 ],
 "metadata": {
  "kernelspec": {
   "display_name": "Python 3",
   "language": "python",
   "name": "python3"
  },
  "language_info": {
   "codemirror_mode": {
    "name": "ipython",
    "version": 3
   },
   "file_extension": ".py",
   "mimetype": "text/x-python",
   "name": "python",
   "nbconvert_exporter": "python",
   "pygments_lexer": "ipython3",
   "version": "3.8.10"
  }
 },
 "nbformat": 4,
 "nbformat_minor": 5
}
