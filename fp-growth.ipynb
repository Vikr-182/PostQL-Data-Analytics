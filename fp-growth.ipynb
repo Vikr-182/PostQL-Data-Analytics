{
 "cells": [
  {
   "cell_type": "code",
   "execution_count": 7,
   "id": "5b6c6829-2ef4-4b0e-b178-ff562718d299",
   "metadata": {
    "tags": []
   },
   "outputs": [],
   "source": [
    "import pandas as pd\n",
    "import numpy as np\n",
    "from utils import *\n",
    "from FPgrowth import FPgrowth # self implemented fpgrowth\n",
    "from mlxtend.frequent_patterns import fpgrowth # fpgrowth baseline"
   ]
  },
  {
   "cell_type": "code",
   "execution_count": 2,
   "id": "c6bcb335-d904-4459-83ad-de4e7e03157a",
   "metadata": {},
   "outputs": [
    {
     "name": "stderr",
     "output_type": "stream",
     "text": [
      "/home/vikrant/core/home/D/P/2/utils.py:16: VisibleDeprecationWarning: Creating an ndarray from ragged nested sequences (which is a list-or-tuple of lists-or-tuples-or ndarrays with different lengths or shapes) is deprecated. If you meant to do this, you must specify 'dtype=object' when creating the ndarray\n",
      "  return np.array(barr)\n"
     ]
    }
   ],
   "source": [
    "dataset = parse_data(\"data/Skin.txt\")\n",
    "columns_, columns_mapping = column_names(dataset)\n",
    "array = convert_to_bool_df(dataset, columns_, columns_mapping)\n",
    "df = pd.DataFrame(array, columns=columns_)"
   ]
  },
  {
   "cell_type": "code",
   "execution_count": 5,
   "id": "0fcb7d8d-1611-4b84-a7d7-99533c90e2a2",
   "metadata": {},
   "outputs": [
    {
     "name": "stdout",
     "output_type": "stream",
     "text": [
      "Time to find Close frequent itemset in Baseline\n",
      "--- 1.0815730094909668 seconds ---\n"
     ]
    }
   ],
   "source": [
    "# Task 2&3: Find closed/max frequent itemset using frequent itemset found in task1\n",
    "import time\n",
    "start_time = time.time()\n",
    "frequent_itemsets = FPgrowth(df, min_support=0.2)\n",
    "closed_frequent_itemsets = closed_frequent(frequent_itemsets)\n",
    "print('Time to find Close frequent itemset in Baseline')\n",
    "print(\"--- %s seconds ---\" % (time.time() - start_time))"
   ]
  },
  {
   "cell_type": "code",
   "execution_count": 8,
   "id": "b98cecde-a10f-4d6f-b4c9-80f08b905ae1",
   "metadata": {},
   "outputs": [
    {
     "name": "stdout",
     "output_type": "stream",
     "text": [
      "Time to find Close frequent itemset using Library\n",
      "--- 1.0764822959899902 seconds ---\n"
     ]
    }
   ],
   "source": [
    "# Task 2&3: Find closed/max frequent itemset using frequent itemset found in task1\n",
    "import time\n",
    "start_time = time.time()\n",
    "frequent_itemsets = fpgrowth(df, min_support=0.2)\n",
    "closed_frequent_itemsets = closed_frequent(frequent_itemsets)\n",
    "print('Time to find Close frequent itemset using Library')\n",
    "print(\"--- %s seconds ---\" % (time.time() - start_time))"
   ]
  }
 ],
 "metadata": {
  "kernelspec": {
   "display_name": "Python 3",
   "language": "python",
   "name": "python3"
  },
  "language_info": {
   "codemirror_mode": {
    "name": "ipython",
    "version": 3
   },
   "file_extension": ".py",
   "mimetype": "text/x-python",
   "name": "python",
   "nbconvert_exporter": "python",
   "pygments_lexer": "ipython3",
   "version": "3.8.10"
  }
 },
 "nbformat": 4,
 "nbformat_minor": 5
}
