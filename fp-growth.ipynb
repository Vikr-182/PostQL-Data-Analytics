{
 "cells": [
  {
   "cell_type": "code",
   "execution_count": 6,
   "id": "5b6c6829-2ef4-4b0e-b178-ff562718d299",
   "metadata": {
    "tags": []
   },
   "outputs": [],
   "source": [
    "import pandas as pd\n",
    "import numpy as np\n",
    "from utils import *\n",
    "from FPgrowth import FPgrowth # self implemented fpgrowth\n",
    "from mlxtend.frequent_patterns import fpgrowth, apriori # fpgrowth baseline"
   ]
  },
  {
   "cell_type": "code",
   "execution_count": 8,
   "id": "5b5d388a-4009-45b8-baee-c1b98163197f",
   "metadata": {},
   "outputs": [],
   "source": [
    "def parse_data(file_name):\n",
    "    file = open(file_name)\n",
    "    barr = []\n",
    "    for ind, line in enumerate(file):\n",
    "        arr = []\n",
    "        for i in line.split(\" \"):\n",
    "            try:\n",
    "                arr.append(int(i))\n",
    "            except:\n",
    "                pass\n",
    "#         barr.append(np.array(arr[::2])[:-1])\n",
    "        barr.append(np.array(arr))\n",
    "    return np.array(barr)"
   ]
  },
  {
   "cell_type": "code",
   "execution_count": 23,
   "id": "c6bcb335-d904-4459-83ad-de4e7e03157a",
   "metadata": {},
   "outputs": [
    {
     "name": "stderr",
     "output_type": "stream",
     "text": [
      "<ipython-input-8-92f471a1f9fe>:13: VisibleDeprecationWarning: Creating an ndarray from ragged nested sequences (which is a list-or-tuple of lists-or-tuples-or ndarrays with different lengths or shapes) is deprecated. If you meant to do this, you must specify 'dtype=object' when creating the ndarray\n",
      "  return np.array(barr)\n"
     ]
    }
   ],
   "source": [
    "dataset = parse_data(\"data/SIGN.txt\")\n",
    "columns_, columns_mapping = column_names(dataset)\n",
    "array = convert_to_bool_df(dataset, columns_, columns_mapping)\n",
    "df = pd.DataFrame(array, columns=columns_)"
   ]
  },
  {
   "cell_type": "code",
   "execution_count": 11,
   "id": "96faf6a0-1b8f-4a72-ab43-0c29ba118675",
   "metadata": {},
   "outputs": [
    {
     "data": {
      "text/html": [
       "<div>\n",
       "<style scoped>\n",
       "    .dataframe tbody tr th:only-of-type {\n",
       "        vertical-align: middle;\n",
       "    }\n",
       "\n",
       "    .dataframe tbody tr th {\n",
       "        vertical-align: top;\n",
       "    }\n",
       "\n",
       "    .dataframe thead th {\n",
       "        text-align: right;\n",
       "    }\n",
       "</style>\n",
       "<table border=\"1\" class=\"dataframe\">\n",
       "  <thead>\n",
       "    <tr style=\"text-align: right;\">\n",
       "      <th></th>\n",
       "      <th>support</th>\n",
       "      <th>itemsets</th>\n",
       "    </tr>\n",
       "  </thead>\n",
       "  <tbody>\n",
       "    <tr>\n",
       "      <th>0</th>\n",
       "      <td>0.792461</td>\n",
       "      <td>(11)</td>\n",
       "    </tr>\n",
       "  </tbody>\n",
       "</table>\n",
       "</div>"
      ],
      "text/plain": [
       "    support itemsets\n",
       "0  0.792461     (11)"
      ]
     },
     "execution_count": 11,
     "metadata": {},
     "output_type": "execute_result"
    }
   ],
   "source": [
    "FPgrowth(df, min_support=0.5)"
   ]
  },
  {
   "cell_type": "code",
   "execution_count": null,
   "id": "0fcb7d8d-1611-4b84-a7d7-99533c90e2a2",
   "metadata": {},
   "outputs": [],
   "source": [
    "# Task 2&3: Find closed/max frequent itemset using frequent itemset found in task1\n",
    "import time\n",
    "start_time = time.time()\n",
    "frequent_itemsets = FPgrowth(df, min_support=0.2)\n",
    "closed_frequent_itemsets = closed_frequent(frequent_itemsets)\n",
    "print('Time to find Close frequent itemset in Baseline')\n",
    "print(\"--- %s seconds ---\" % (time.time() - start_time))"
   ]
  },
  {
   "cell_type": "code",
   "execution_count": 9,
   "id": "b98cecde-a10f-4d6f-b4c9-80f08b905ae1",
   "metadata": {},
   "outputs": [
    {
     "name": "stdout",
     "output_type": "stream",
     "text": [
      "Time to find Close frequent itemset using Library\n",
      "--- 0.49976325035095215 seconds ---\n"
     ]
    }
   ],
   "source": [
    "# Task 2&3: Find closed/max frequent itemset using frequent itemset found in task1\n",
    "dataset = parse_data(\"data/Skin.txt\")\n",
    "columns_, columns_mapping = column_names(dataset)\n",
    "array = convert_to_bool_df(dataset, columns_, columns_mapping)\n",
    "df = pd.DataFrame(array, columns=columns_)\n",
    "import time\n",
    "start_time = time.time()\n",
    "frequent_itemsets = fpgrowth(df, min_support=0.8)\n",
    "closed_frequent_itemsets = closed_frequent(frequent_itemsets)\n",
    "print('Time to find Close frequent itemset using Library')\n",
    "print(\"--- %s seconds ---\" % (time.time() - start_time))"
   ]
  },
  {
   "cell_type": "code",
   "execution_count": null,
   "id": "1c446ac8-b125-4ec3-b9ef-9eb9b4ffe229",
   "metadata": {},
   "outputs": [],
   "source": [
    "import pandas as pd\n",
    "import numpy as np\n",
    "from utils import *\n",
    "from FPgrowth import FPgrowth # self implemented fpgrowth\n",
    "from mlxtend.frequent_patterns import fpgrowth, apriori # fpgrowth, apriori library\n",
    "\n",
    "dataset = parse_data(\"data/FIFA.txt\")\n",
    "columns_, columns_mapping = column_names(dataset)\n",
    "array = convert_to_bool_df(dataset, columns_, columns_mapping)\n",
    "df = pd.DataFrame(array, columns=columns_)\n",
    "\n",
    "# Task 1: Apriori Library\n",
    "import time\n",
    "start_time = time.time()\n",
    "frequent_itemsets = apriori(df, min_support=0.2)\n",
    "closed_frequent_itemsets = closed_frequent(frequent_itemsets)\n",
    "print('Time to find Close frequent itemset in Baseline')\n",
    "print(\"--- %s seconds ---\" % (time.time() - start_time))"
   ]
  }
 ],
 "metadata": {
  "kernelspec": {
   "display_name": "Python 3",
   "language": "python",
   "name": "python3"
  },
  "language_info": {
   "codemirror_mode": {
    "name": "ipython",
    "version": 3
   },
   "file_extension": ".py",
   "mimetype": "text/x-python",
   "name": "python",
   "nbconvert_exporter": "python",
   "pygments_lexer": "ipython3",
   "version": "3.8.10"
  }
 },
 "nbformat": 4,
 "nbformat_minor": 5
}
